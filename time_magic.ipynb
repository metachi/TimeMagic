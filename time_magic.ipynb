{
 "cells": [
  {
   "cell_type": "code",
   "execution_count": 1,
   "metadata": {
    "scrolled": false
   },
   "outputs": [
    {
     "name": "stdout",
     "output_type": "stream",
     "text": [
      "Installing packages:\n",
      "\t.package(path: \"~/gitrepos/TimeMagic\")\n",
      "\t\tTimeMagic\n",
      "Completed resolution in 0.37s\n",
      "Compile Swift Module 'TimeMagic' (1 sources)\n",
      "Compile Swift Module 'jupyterInstalledPackages' (1 sources)\n",
      "Linking ./.build/x86_64-unknown-linux/debug/libjupyterInstalledPackages.so\n",
      "Installation complete!"
     ]
    }
   ],
   "source": [
    "%install '.package(path: \"~/gitrepos/TimeMagic\")' TimeMagic\n",
    "\n"
   ]
  },
  {
   "cell_type": "code",
   "execution_count": 2,
   "metadata": {},
   "outputs": [],
   "source": [
    "import TimeMagic"
   ]
  },
  {
   "cell_type": "code",
   "execution_count": null,
   "metadata": {},
   "outputs": [],
   "source": []
  },
  {
   "cell_type": "markdown",
   "metadata": {},
   "source": []
  },
  {
   "cell_type": "code",
   "execution_count": 3,
   "metadata": {},
   "outputs": [],
   "source": [
    "func test(_ x: Int){\n",
    "    var n = x\n",
    "    for _ in (1...999){\n",
    "        n+=x\n",
    "    }\n",
    "    print(n)\n",
    "}"
   ]
  },
  {
   "cell_type": "code",
   "execution_count": 4,
   "metadata": {},
   "outputs": [
    {
     "ename": "",
     "evalue": "",
     "output_type": "error",
     "traceback": [
      "error: <Cell 4>:1:1: error: use of unresolved identifier 'x'\nx //x is not yet defined as expected\n^\n\n"
     ]
    }
   ],
   "source": [
    "x //x is not yet defined as expected"
   ]
  },
  {
   "cell_type": "code",
   "execution_count": 5,
   "metadata": {},
   "outputs": [
    {
     "name": "stdout",
     "output_type": "stream",
     "text": [
      "5000\r\n",
      "88.423 µs\r\n"
     ]
    }
   ],
   "source": [
    "%%time\n",
    "let x = 5\n",
    "test(x)"
   ]
  },
  {
   "cell_type": "code",
   "execution_count": 6,
   "metadata": {},
   "outputs": [
    {
     "data": {
      "text/plain": [
       "5\n"
      ]
     },
     "execution_count": 6,
     "metadata": {},
     "output_type": "execute_result"
    }
   ],
   "source": [
    "x //x is now defined as expected"
   ]
  },
  {
   "cell_type": "code",
   "execution_count": null,
   "metadata": {},
   "outputs": [],
   "source": []
  },
  {
   "cell_type": "code",
   "execution_count": 7,
   "metadata": {},
   "outputs": [
    {
     "ename": "",
     "evalue": "",
     "output_type": "error",
     "traceback": [
      "error: <Cell 7>:1:1: error: use of unresolved identifier 'y'\ny //y is not yet defined\n^\n\nGlibc.yn:1:13: note: did you mean 'yn'?\npublic func yn(_ n: Int, _ x: Double) -> Double\n            ^\n\nSwiftGlibc.y0:1:13: note: did you mean 'y0'?\npublic func y0(_: Double) -> Double\n            ^\n\nSwiftGlibc.y1:1:13: note: did you mean 'y1'?\npublic func y1(_: Double) -> Double\n            ^\n\nSwiftGlibc.yn:1:13: note: did you mean 'yn'?\npublic func yn(_: Int32, _: Double) -> Double\n            ^\n\n"
     ]
    }
   ],
   "source": [
    "y //y is not yet defined"
   ]
  },
  {
   "cell_type": "code",
   "execution_count": 8,
   "metadata": {},
   "outputs": [
    {
     "name": "stdout",
     "output_type": "stream",
     "text": [
      "5000\r\n",
      "5000\r\n",
      "5000\r\n",
      "5000\r\n",
      "5000\r\n",
      "Max: 10.774 µs\r\n",
      "Min: 6.372 µs\r\n",
      "Mean: 10.898333333333333 µs\r\n",
      "Std Dev: 3.655493678976485 µs\r\n"
     ]
    }
   ],
   "source": [
    "%%timeit 3\n",
    "let y = 5\n",
    "test(y)"
   ]
  },
  {
   "cell_type": "code",
   "execution_count": 9,
   "metadata": {
    "scrolled": true
   },
   "outputs": [
    {
     "data": {
      "text/plain": [
       "5\n"
      ]
     },
     "execution_count": 9,
     "metadata": {},
     "output_type": "execute_result"
    }
   ],
   "source": [
    "y //y is now defined as expected"
   ]
  },
  {
   "cell_type": "code",
   "execution_count": null,
   "metadata": {},
   "outputs": [],
   "source": []
  },
  {
   "cell_type": "code",
   "execution_count": null,
   "metadata": {},
   "outputs": [],
   "source": []
  },
  {
   "cell_type": "code",
   "execution_count": 10,
   "metadata": {},
   "outputs": [
    {
     "name": "stdout",
     "output_type": "stream",
     "text": [
      "10000\r\n",
      "10000\r\n",
      "10000\r\n",
      "10000\r\n",
      "10000\r\n",
      "10000\r\n",
      "10000\r\n",
      "10000\r\n",
      "10000\r\n",
      "10000\r\n",
      "10000\r\n",
      "10000\r\n",
      "Max: 9.292 µs\r\n",
      "Min: 7.533 µs\r\n",
      "Mean: 8.724 µs\r\n",
      "Std Dev: 958.6907739203502 ns\r\n"
     ]
    }
   ],
   "source": [
    "%%timeit\n",
    "test(10)"
   ]
  },
  {
   "cell_type": "code",
   "execution_count": 11,
   "metadata": {},
   "outputs": [
    {
     "name": "stdout",
     "output_type": "stream",
     "text": [
      "5000\r\n",
      "5000\r\n",
      "5000\r\n",
      "5000\r\n",
      "5000\r\n",
      "Max: 10.68 µs\r\n",
      "Min: 7.758 µs\r\n",
      "Mean: 11.749333333333334 µs\r\n",
      "Std Dev: 3.6548045294034748 µs\r\n"
     ]
    }
   ],
   "source": [
    "%%timeit  3\n",
    "test(5)"
   ]
  },
  {
   "cell_type": "code",
   "execution_count": 12,
   "metadata": {},
   "outputs": [
    {
     "name": "stdout",
     "output_type": "stream",
     "text": [
      "5000\r\n",
      "5000\r\n",
      "5000\r\n",
      "5000\r\n",
      "Max: 9.779 µs\r\n",
      "Min: 8.107 µs\r\n",
      "Mean: 13.3465 µs\r\n",
      "Std Dev: 5.513006291942718 µs\r\n"
     ]
    }
   ],
   "source": [
    "%%timeit 2\n",
    "test(5)"
   ]
  },
  {
   "cell_type": "code",
   "execution_count": null,
   "metadata": {},
   "outputs": [],
   "source": []
  },
  {
   "cell_type": "code",
   "execution_count": 13,
   "metadata": {},
   "outputs": [],
   "source": [
    "import TensorFlow"
   ]
  },
  {
   "cell_type": "code",
   "execution_count": 14,
   "metadata": {},
   "outputs": [
    {
     "name": "stdout",
     "output_type": "stream",
     "text": [
      "[[0.0, 0.0], [0.0, 2.0], [2.0, 0.0], [2.0, 2.0]]\r\n",
      "[[0.0, 0.0], [0.0, 2.0], [2.0, 0.0], [2.0, 2.0]]\r\n",
      "[[0.0, 0.0], [0.0, 2.0], [2.0, 0.0], [2.0, 2.0]]\r\n",
      "[[0.0, 0.0], [0.0, 2.0], [2.0, 0.0], [2.0, 2.0]]\r\n",
      "[[0.0, 0.0], [0.0, 2.0], [2.0, 0.0], [2.0, 2.0]]\r\n",
      "[[0.0, 0.0], [0.0, 2.0], [2.0, 0.0], [2.0, 2.0]]\r\n",
      "[[0.0, 0.0], [0.0, 2.0], [2.0, 0.0], [2.0, 2.0]]\r\n",
      "[[0.0, 0.0], [0.0, 2.0], [2.0, 0.0], [2.0, 2.0]]\r\n",
      "[[0.0, 0.0], [0.0, 2.0], [2.0, 0.0], [2.0, 2.0]]\r\n",
      "[[0.0, 0.0], [0.0, 2.0], [2.0, 0.0], [2.0, 2.0]]\r\n",
      "[[0.0, 0.0], [0.0, 2.0], [2.0, 0.0], [2.0, 2.0]]\r\n",
      "[[0.0, 0.0], [0.0, 2.0], [2.0, 0.0], [2.0, 2.0]]\r\n",
      "Max: 591.936 µs\r\n",
      "Min: 519.2 µs\r\n",
      "Mean: 590.2631 µs\r\n",
      "Std Dev: 60.14923900807887 µs\r\n"
     ]
    }
   ],
   "source": [
    "%%timeit\n",
    "\n",
    "var x: Tensor<Float> = [[0, 0], [0, 1], [1, 0], [1, 1]]\n",
    "print(x * 2)"
   ]
  },
  {
   "cell_type": "code",
   "execution_count": null,
   "metadata": {},
   "outputs": [],
   "source": []
  },
  {
   "cell_type": "code",
   "execution_count": null,
   "metadata": {},
   "outputs": [],
   "source": []
  },
  {
   "cell_type": "code",
   "execution_count": null,
   "metadata": {},
   "outputs": [],
   "source": []
  },
  {
   "cell_type": "code",
   "execution_count": null,
   "metadata": {},
   "outputs": [],
   "source": []
  }
 ],
 "metadata": {
  "kernelspec": {
   "display_name": "Swift",
   "language": "swift",
   "name": "swift"
  }
 },
 "nbformat": 4,
 "nbformat_minor": 2
}
