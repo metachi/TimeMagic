{
 "cells": [
  {
   "cell_type": "code",
   "execution_count": 1,
   "metadata": {
    "scrolled": false
   },
   "outputs": [
    {
     "name": "stdout",
     "output_type": "stream",
     "text": [
      "Installing packages:\n",
      "\t.package(path: \"~/gitrepos/TimeMagic\")\n",
      "\t\tTimeMagic\n",
      "Completed resolution in 0.36s\n",
      "Compile Swift Module 'TimeMagic' (1 sources)\n",
      "Compile Swift Module 'jupyterInstalledPackages' (1 sources)\n",
      "Linking ./.build/x86_64-unknown-linux/debug/libjupyterInstalledPackages.so\n",
      "Installation complete!"
     ]
    }
   ],
   "source": [
    "%install '.package(path: \"~/gitrepos/TimeMagic\")' TimeMagic\n",
    "\n"
   ]
  },
  {
   "cell_type": "code",
   "execution_count": 2,
   "metadata": {},
   "outputs": [],
   "source": [
    "import TimeMagic"
   ]
  },
  {
   "cell_type": "code",
   "execution_count": null,
   "metadata": {},
   "outputs": [],
   "source": []
  },
  {
   "cell_type": "code",
   "execution_count": 3,
   "metadata": {},
   "outputs": [],
   "source": [
    "func test(_ x: Int){\n",
    "    var n = x\n",
    "    for _ in (1...999){\n",
    "        n+=x\n",
    "    }\n",
    "    print(n)\n",
    "}"
   ]
  },
  {
   "cell_type": "code",
   "execution_count": 4,
   "metadata": {},
   "outputs": [
    {
     "ename": "",
     "evalue": "",
     "output_type": "error",
     "traceback": [
      "error: <Cell 4>:1:1: error: use of unresolved identifier 'x'\nx //x is not yet defined as expected\n^\n\n"
     ]
    }
   ],
   "source": [
    "x //x is not yet defined as expected"
   ]
  },
  {
   "cell_type": "code",
   "execution_count": 5,
   "metadata": {},
   "outputs": [
    {
     "name": "stdout",
     "output_type": "stream",
     "text": [
      "5000\r\n",
      "88.703 µs\r\n"
     ]
    }
   ],
   "source": [
    "%%time\n",
    "let x = 5\n",
    "test(x)"
   ]
  },
  {
   "cell_type": "code",
   "execution_count": 6,
   "metadata": {},
   "outputs": [
    {
     "data": {
      "text/plain": [
       "5\n"
      ]
     },
     "execution_count": 6,
     "metadata": {},
     "output_type": "execute_result"
    }
   ],
   "source": [
    "x //x is now defined as expected"
   ]
  },
  {
   "cell_type": "code",
   "execution_count": null,
   "metadata": {},
   "outputs": [],
   "source": []
  },
  {
   "cell_type": "code",
   "execution_count": 7,
   "metadata": {},
   "outputs": [
    {
     "ename": "",
     "evalue": "",
     "output_type": "error",
     "traceback": [
      "error: <Cell 7>:1:1: error: use of unresolved identifier 'y'\ny //y is not yet defined\n^\n\nGlibc.yn:1:13: note: did you mean 'yn'?\npublic func yn(_ n: Int, _ x: Double) -> Double\n            ^\n\nSwiftGlibc.y0:1:13: note: did you mean 'y0'?\npublic func y0(_: Double) -> Double\n            ^\n\nSwiftGlibc.y1:1:13: note: did you mean 'y1'?\npublic func y1(_: Double) -> Double\n            ^\n\nSwiftGlibc.yn:1:13: note: did you mean 'yn'?\npublic func yn(_: Int32, _: Double) -> Double\n            ^\n\n"
     ]
    }
   ],
   "source": [
    "y //y is not yet defined"
   ]
  },
  {
   "cell_type": "code",
   "execution_count": 8,
   "metadata": {},
   "outputs": [
    {
     "name": "stdout",
     "output_type": "stream",
     "text": [
      "5000\r\n",
      "5000\r\n",
      "5000\r\n",
      "5000\r\n",
      "Max: 9.146 µs\r\n",
      "Min: 5.936 µs\r\n",
      "Mean: 7.384666666666667 µs\r\n",
      "Std Dev: 1.3289959451489017 µs\r\n"
     ]
    }
   ],
   "source": [
    "%%timeit 3\n",
    "let y = 5\n",
    "test(y)"
   ]
  },
  {
   "cell_type": "code",
   "execution_count": 9,
   "metadata": {
    "scrolled": true
   },
   "outputs": [
    {
     "data": {
      "text/plain": [
       "5\n"
      ]
     },
     "execution_count": 9,
     "metadata": {},
     "output_type": "execute_result"
    }
   ],
   "source": [
    "y //y is now defined as expected"
   ]
  },
  {
   "cell_type": "code",
   "execution_count": null,
   "metadata": {},
   "outputs": [],
   "source": []
  },
  {
   "cell_type": "code",
   "execution_count": null,
   "metadata": {},
   "outputs": [],
   "source": []
  },
  {
   "cell_type": "code",
   "execution_count": 10,
   "metadata": {},
   "outputs": [
    {
     "name": "stdout",
     "output_type": "stream",
     "text": [
      "10000\r\n",
      "10000\r\n",
      "10000\r\n",
      "10000\r\n",
      "10000\r\n",
      "10000\r\n",
      "10000\r\n",
      "10000\r\n",
      "10000\r\n",
      "10000\r\n",
      "10000\r\n",
      "Max: 8.272 µs\r\n",
      "Min: 5.675 µs\r\n",
      "Mean: 6.5476 µs\r\n",
      "Std Dev: 977.813295061997 ns\r\n"
     ]
    }
   ],
   "source": [
    "%%timeit\n",
    "test(10)"
   ]
  },
  {
   "cell_type": "code",
   "execution_count": 11,
   "metadata": {},
   "outputs": [
    {
     "name": "stdout",
     "output_type": "stream",
     "text": [
      "5000\r\n",
      "5000\r\n",
      "5000\r\n",
      "5000\r\n",
      "Max: 7.286 µs\r\n",
      "Min: 5.789 µs\r\n",
      "Mean: 6.358333333333333 µs\r\n",
      "Std Dev: 661.591179573072 ns\r\n"
     ]
    }
   ],
   "source": [
    "%%timeit  3\n",
    "test(5)"
   ]
  },
  {
   "cell_type": "code",
   "execution_count": 12,
   "metadata": {},
   "outputs": [
    {
     "name": "stdout",
     "output_type": "stream",
     "text": [
      "5000\r\n",
      "5000\r\n",
      "5000\r\n",
      "Max: 7.051 µs\r\n",
      "Min: 5.694 µs\r\n",
      "Mean: 6.3725 µs\r\n",
      "Std Dev: 678.5 ns\r\n"
     ]
    }
   ],
   "source": [
    "%%timeit 2\n",
    "test(5)"
   ]
  },
  {
   "cell_type": "code",
   "execution_count": null,
   "metadata": {},
   "outputs": [],
   "source": []
  },
  {
   "cell_type": "code",
   "execution_count": 13,
   "metadata": {},
   "outputs": [],
   "source": [
    "import TensorFlow"
   ]
  },
  {
   "cell_type": "code",
   "execution_count": 14,
   "metadata": {},
   "outputs": [
    {
     "name": "stdout",
     "output_type": "stream",
     "text": [
      "[[0.0, 0.0], [0.0, 2.0], [2.0, 0.0], [2.0, 2.0]]\r\n",
      "[[0.0, 0.0], [0.0, 2.0], [2.0, 0.0], [2.0, 2.0]]\r\n",
      "[[0.0, 0.0], [0.0, 2.0], [2.0, 0.0], [2.0, 2.0]]\r\n",
      "[[0.0, 0.0], [0.0, 2.0], [2.0, 0.0], [2.0, 2.0]]\r\n",
      "[[0.0, 0.0], [0.0, 2.0], [2.0, 0.0], [2.0, 2.0]]\r\n",
      "[[0.0, 0.0], [0.0, 2.0], [2.0, 0.0], [2.0, 2.0]]\r\n",
      "[[0.0, 0.0], [0.0, 2.0], [2.0, 0.0], [2.0, 2.0]]\r\n",
      "[[0.0, 0.0], [0.0, 2.0], [2.0, 0.0], [2.0, 2.0]]\r\n",
      "[[0.0, 0.0], [0.0, 2.0], [2.0, 0.0], [2.0, 2.0]]\r\n",
      "[[0.0, 0.0], [0.0, 2.0], [2.0, 0.0], [2.0, 2.0]]\r\n",
      "[[0.0, 0.0], [0.0, 2.0], [2.0, 0.0], [2.0, 2.0]]\r\n",
      "Max: 595.876 µs\r\n",
      "Min: 512.721 µs\r\n",
      "Mean: 531.0667 µs\r\n",
      "Std Dev: 24.34177307449069 µs\r\n"
     ]
    }
   ],
   "source": [
    "%%timeit\n",
    "\n",
    "var x: Tensor<Float> = [[0, 0], [0, 1], [1, 0], [1, 1]]\n",
    "print(x * 2)"
   ]
  },
  {
   "cell_type": "code",
   "execution_count": null,
   "metadata": {},
   "outputs": [],
   "source": []
  },
  {
   "cell_type": "code",
   "execution_count": null,
   "metadata": {},
   "outputs": [],
   "source": []
  },
  {
   "cell_type": "code",
   "execution_count": null,
   "metadata": {},
   "outputs": [],
   "source": []
  },
  {
   "cell_type": "code",
   "execution_count": null,
   "metadata": {},
   "outputs": [],
   "source": []
  }
 ],
 "metadata": {
  "kernelspec": {
   "display_name": "Swift",
   "language": "swift",
   "name": "swift"
  },
  "language_info": {
   "file_extension": ".swift",
   "mimetype": "text/x-swift",
   "name": "swift",
   "version": ""
  }
 },
 "nbformat": 4,
 "nbformat_minor": 2
}
